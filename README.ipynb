{
 "metadata": {
  "name": ""
 },
 "nbformat": 3,
 "nbformat_minor": 0,
 "worksheets": [
  {
   "cells": [
    {
     "cell_type": "code",
     "collapsed": false,
     "input": [
      "from jsonstreamer import JSONStreamer\n",
      "\n",
      "json_object = \"\"\"\n",
      "    {\n",
      "        \"fruits\":[\"apple\",\"banana\", \"cherry\"],\n",
      "        \"calories\":[100,200,50]\n",
      "    }\n",
      "\"\"\"\n",
      "\n",
      "json_array = \"\"\"\n",
      "    [1,2,true,[4,5],\"a\"]\n",
      "\"\"\"\n",
      "\n",
      "def _catch_all(event_name, *args):\n",
      "    print('\\t{} : {}'.format(event_name, args))\n",
      "\n",
      "print(\"\\nParsing the json object:\")\n",
      "streamer = JSONStreamer()\n",
      "streamer.add_catch_all_listener(_catch_all)\n",
      "streamer.consume(json_object[0:10])\n",
      "streamer.consume(json_object[10:])\n",
      "streamer.close()\n",
      "\n",
      "print(\"\\nParsing the json array:\")\n",
      "streamer = JSONStreamer()\n",
      "streamer.add_catch_all_listener(_catch_all)\n",
      "streamer.consume(json_array[0:5])\n",
      "streamer.consume(json_array[5:])\n",
      "streamer.close()"
     ],
     "language": "python",
     "metadata": {},
     "outputs": [
      {
       "output_type": "stream",
       "stream": "stdout",
       "text": [
        "\n",
        "Parsing the json object:\n",
        "\tdoc_start : ()\n",
        "\tobject_start : ()\n",
        "\tkey : ('fruits',)\n",
        "\tarray_start : ()\n",
        "\telement : ('apple',)\n",
        "\telement : ('banana',)\n",
        "\telement : ('cherry',)\n",
        "\tarray_end : ()\n",
        "\tkey : ('calories',)\n",
        "\tarray_start : ()\n",
        "\telement : (100,)\n",
        "\telement : (200,)\n",
        "\telement : (50,)\n",
        "\tarray_end : ()\n",
        "\tobject_end : ()\n",
        "\tdoc_end : ()\n",
        "\n",
        "Parsing the json array:\n",
        "\tdoc_start : ()\n",
        "\tarray_start : ()\n",
        "\telement : (1,)\n",
        "\telement : (2,)\n",
        "\telement : (True,)\n",
        "\tarray_start : ()\n",
        "\telement : (4,)\n",
        "\telement : (5,)\n",
        "\tarray_end : ()\n",
        "\telement : ('a',)\n",
        "\tarray_end : ()\n",
        "\tdoc_end : ()\n"
       ]
      }
     ],
     "prompt_number": 34
    },
    {
     "cell_type": "code",
     "collapsed": false,
     "input": [],
     "language": "python",
     "metadata": {},
     "outputs": [],
     "prompt_number": 16
    },
    {
     "cell_type": "code",
     "collapsed": false,
     "input": [
      "object_streamer = ObjectStreamer()\n",
      "object_streamer.add_catch_all_listener(_catch_all)\n",
      "object_streamer.consume(json_object[0:9])\n",
      "object_streamer.consume(json_object[9:])\n",
      "object_streamer.close()\n",
      "\n"
     ],
     "language": "python",
     "metadata": {},
     "outputs": [
      {
       "output_type": "stream",
       "stream": "stdout",
       "text": [
        "object_stream_start : ()\n",
        "pair : (('fruits', ['apple', 'banana', 'cherry']),)\n",
        "pair : (('calories', [100, 200, 50]),)\n",
        "object_stream_end : ()\n"
       ]
      }
     ],
     "prompt_number": 29
    },
    {
     "cell_type": "code",
     "collapsed": false,
     "input": [],
     "language": "python",
     "metadata": {},
     "outputs": [],
     "prompt_number": 18
    }
   ],
   "metadata": {}
  }
 ]
}